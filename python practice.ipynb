{
 "cells": [
  {
   "cell_type": "markdown",
   "metadata": {},
   "source": [
    "# python practice"
   ]
  },
  {
   "cell_type": "code",
   "execution_count": 1,
   "metadata": {},
   "outputs": [
    {
     "name": "stdout",
     "output_type": "stream",
     "text": [
      "kishan dongare\n"
     ]
    }
   ],
   "source": [
    "print(\"kishan dongare\")"
   ]
  },
  {
   "cell_type": "markdown",
   "metadata": {},
   "source": [
    "# variable & data Type"
   ]
  },
  {
   "cell_type": "code",
   "execution_count": 3,
   "metadata": {},
   "outputs": [
    {
     "name": "stdout",
     "output_type": "stream",
     "text": [
      "There once was a man named john,\n",
      "he was john year old,\n",
      "he rally liked the name john,\n",
      "but din not like being35.\n"
     ]
    }
   ],
   "source": [
    "character_name = \"john\"\n",
    "characte_age  = \"35\"\n",
    "print(\"There once was a man named \"+character_name + \",\")\n",
    "print(\"he was \"+character_name+\" year old,\")\n",
    "print(\"he rally liked the name \"+character_name + \",\")\n",
    "print(\"but din not like being\"+characte_age+\".\")\n"
   ]
  },
  {
   "cell_type": "code",
   "execution_count": 4,
   "metadata": {},
   "outputs": [
    {
     "name": "stdout",
     "output_type": "stream",
     "text": [
      "There once was a man named tom,\n",
      "he was tom year old,\n",
      "he rally liked the name tom,\n",
      "but din not like being25.\n"
     ]
    }
   ],
   "source": [
    "character_name = \"tom\"\n",
    "characte_age  = \"25\"\n",
    "print(\"There once was a man named \"+character_name + \",\")\n",
    "print(\"he was \"+character_name+\" year old,\")\n",
    "print(\"he rally liked the name \"+character_name + \",\")\n",
    "print(\"but din not like being\"+characte_age+\".\")\n"
   ]
  },
  {
   "cell_type": "code",
   "execution_count": 6,
   "metadata": {},
   "outputs": [
    {
     "name": "stdout",
     "output_type": "stream",
     "text": [
      "There once was a man named john,\n",
      "he was Mike year old,\n",
      "he rally liked the name Mike,\n",
      "but din not like being35.\n"
     ]
    }
   ],
   "source": [
    "character_name = \"john\"\n",
    "characte_age  = \"35\"# string\n",
    "print(\"There once was a man named \"+character_name + \",\")\n",
    "character_name = \"Mike\"\n",
    "print(\"he was \"+character_name+\" year old,\")\n",
    "print(\"he rally liked the name \"+character_name + \",\")\n",
    "print(\"but din not like being\"+characte_age+\".\")\n"
   ]
  },
  {
   "cell_type": "code",
   "execution_count": 10,
   "metadata": {},
   "outputs": [
    {
     "name": "stdout",
     "output_type": "stream",
     "text": [
      "There once was a man named john,\n",
      "he was Mike year old,\n",
      "he rally liked the name Mike,\n",
      "but din not like being 35.56547\n"
     ]
    }
   ],
   "source": [
    "character_name = \"john\"\n",
    "characte_age  = 35.56547 # number\n",
    "is_male = False\n",
    "print(\"There once was a man named \"+character_name + \",\")\n",
    "character_name = \"Mike\"\n",
    "print(\"he was \"+character_name+\" year old,\")\n",
    "print(\"he rally liked the name \"+character_name + \",\")\n",
    "print(\"but din not like being\",characte_age)\n"
   ]
  },
  {
   "cell_type": "markdown",
   "metadata": {},
   "source": [
    "# working with string"
   ]
  },
  {
   "cell_type": "code",
   "execution_count": 11,
   "metadata": {},
   "outputs": [
    {
     "name": "stdout",
     "output_type": "stream",
     "text": [
      "working with \n",
      " string\n"
     ]
    }
   ],
   "source": [
    "print(\"working with \\n string\")"
   ]
  },
  {
   "cell_type": "code",
   "execution_count": 12,
   "metadata": {},
   "outputs": [
    {
     "name": "stdout",
     "output_type": "stream",
     "text": [
      "working with \" string\n"
     ]
    }
   ],
   "source": [
    "print(\"working with \\\" string\")"
   ]
  },
  {
   "cell_type": "code",
   "execution_count": 13,
   "metadata": {},
   "outputs": [
    {
     "name": "stdout",
     "output_type": "stream",
     "text": [
      "working with \\ string\n"
     ]
    }
   ],
   "source": [
    "print(\"working with \\ string\")"
   ]
  },
  {
   "cell_type": "code",
   "execution_count": 15,
   "metadata": {},
   "outputs": [
    {
     "name": "stdout",
     "output_type": "stream",
     "text": [
      "working with string is cool\n"
     ]
    }
   ],
   "source": [
    "phrase = \"working with string\"\n",
    "print(phrase+\" is cool\")"
   ]
  },
  {
   "cell_type": "code",
   "execution_count": 16,
   "metadata": {},
   "outputs": [
    {
     "name": "stdout",
     "output_type": "stream",
     "text": [
      "working with string\n"
     ]
    }
   ],
   "source": [
    "phrase = \"working with string\"\n",
    "print(phrase.lower())"
   ]
  },
  {
   "cell_type": "code",
   "execution_count": 17,
   "metadata": {},
   "outputs": [
    {
     "name": "stdout",
     "output_type": "stream",
     "text": [
      "WORKING WITH STRING\n"
     ]
    }
   ],
   "source": [
    "phrase = \"working with string\"\n",
    "print(phrase.upper())"
   ]
  },
  {
   "cell_type": "code",
   "execution_count": 18,
   "metadata": {},
   "outputs": [
    {
     "name": "stdout",
     "output_type": "stream",
     "text": [
      "False\n"
     ]
    }
   ],
   "source": [
    "phrase = \"working with string\"\n",
    "print(phrase.isupper())"
   ]
  },
  {
   "cell_type": "code",
   "execution_count": 19,
   "metadata": {},
   "outputs": [
    {
     "name": "stdout",
     "output_type": "stream",
     "text": [
      "True\n"
     ]
    }
   ],
   "source": [
    "phrase = \"working with string\"\n",
    "print(phrase.upper().isupper())  "
   ]
  },
  {
   "cell_type": "code",
   "execution_count": 20,
   "metadata": {},
   "outputs": [
    {
     "name": "stdout",
     "output_type": "stream",
     "text": [
      "19\n"
     ]
    }
   ],
   "source": [
    "phrase = \"working with string\"\n",
    "print(len(phrase))"
   ]
  },
  {
   "cell_type": "code",
   "execution_count": 21,
   "metadata": {},
   "outputs": [
    {
     "name": "stdout",
     "output_type": "stream",
     "text": [
      "n\n"
     ]
    }
   ],
   "source": [
    "phrase = \"working with string\"\n",
    "print(phrase[5])"
   ]
  },
  {
   "cell_type": "code",
   "execution_count": 22,
   "metadata": {},
   "outputs": [
    {
     "name": "stdout",
     "output_type": "stream",
     "text": [
      "4\n"
     ]
    }
   ],
   "source": [
    "phrase = \"working with string\"\n",
    "print(phrase.index(\"i\"))"
   ]
  },
  {
   "cell_type": "code",
   "execution_count": 23,
   "metadata": {},
   "outputs": [
    {
     "ename": "ValueError",
     "evalue": "substring not found",
     "output_type": "error",
     "traceback": [
      "\u001b[1;31m---------------------------------------------------------------------------\u001b[0m",
      "\u001b[1;31mValueError\u001b[0m                                Traceback (most recent call last)",
      "\u001b[1;32m<ipython-input-23-43bceb72f280>\u001b[0m in \u001b[0;36m<module>\u001b[1;34m\u001b[0m\n\u001b[0;32m      1\u001b[0m \u001b[0mphrase\u001b[0m \u001b[1;33m=\u001b[0m \u001b[1;34m\"working with string\"\u001b[0m\u001b[1;33m\u001b[0m\u001b[0m\n\u001b[1;32m----> 2\u001b[1;33m \u001b[0mprint\u001b[0m\u001b[1;33m(\u001b[0m\u001b[0mphrase\u001b[0m\u001b[1;33m.\u001b[0m\u001b[0mindex\u001b[0m\u001b[1;33m(\u001b[0m\u001b[1;34m\"z\"\u001b[0m\u001b[1;33m)\u001b[0m\u001b[1;33m)\u001b[0m\u001b[1;33m\u001b[0m\u001b[0m\n\u001b[0m",
      "\u001b[1;31mValueError\u001b[0m: substring not found"
     ]
    }
   ],
   "source": [
    "phrase = \"working with string\"\n",
    "print(phrase.index(\"z\"))"
   ]
  },
  {
   "cell_type": "code",
   "execution_count": 24,
   "metadata": {},
   "outputs": [
    {
     "name": "stdout",
     "output_type": "stream",
     "text": [
      "work with string\n"
     ]
    }
   ],
   "source": [
    "phrase = \"working with string\"\n",
    "print(phrase.replace(\"working\",\"work\"))"
   ]
  },
  {
   "cell_type": "markdown",
   "metadata": {},
   "source": [
    "# working with number"
   ]
  },
  {
   "cell_type": "code",
   "execution_count": 25,
   "metadata": {},
   "outputs": [
    {
     "name": "stdout",
     "output_type": "stream",
     "text": [
      "34\n"
     ]
    }
   ],
   "source": [
    "print(34)"
   ]
  },
  {
   "cell_type": "code",
   "execution_count": 26,
   "metadata": {},
   "outputs": [
    {
     "name": "stdout",
     "output_type": "stream",
     "text": [
      "-4238\n"
     ]
    }
   ],
   "source": [
    "print(-4238)"
   ]
  },
  {
   "cell_type": "code",
   "execution_count": 27,
   "metadata": {},
   "outputs": [
    {
     "name": "stdout",
     "output_type": "stream",
     "text": [
      "57\n"
     ]
    }
   ],
   "source": [
    "print(34+23)"
   ]
  },
  {
   "cell_type": "code",
   "execution_count": 28,
   "metadata": {},
   "outputs": [
    {
     "name": "stdout",
     "output_type": "stream",
     "text": [
      "-11\n"
     ]
    }
   ],
   "source": [
    "print(34-45)"
   ]
  },
  {
   "cell_type": "code",
   "execution_count": 29,
   "metadata": {},
   "outputs": [
    {
     "name": "stdout",
     "output_type": "stream",
     "text": [
      "1\n"
     ]
    }
   ],
   "source": [
    "print(34*(23-34)%3)"
   ]
  },
  {
   "cell_type": "code",
   "execution_count": 32,
   "metadata": {},
   "outputs": [
    {
     "name": "stdout",
     "output_type": "stream",
     "text": [
      "5\n"
     ]
    }
   ],
   "source": [
    "my_num = 5\n",
    "print(my_num)"
   ]
  },
  {
   "cell_type": "code",
   "execution_count": 33,
   "metadata": {},
   "outputs": [
    {
     "name": "stdout",
     "output_type": "stream",
     "text": [
      "5 my favorate number\n"
     ]
    }
   ],
   "source": [
    "my_num = 5\n",
    "print(str(my_num)+\" my favorate number\")"
   ]
  },
  {
   "cell_type": "code",
   "execution_count": 36,
   "metadata": {},
   "outputs": [
    {
     "name": "stdout",
     "output_type": "stream",
     "text": [
      "5\n"
     ]
    }
   ],
   "source": [
    "my_num = -5\n",
    "print(abs(my_num))"
   ]
  },
  {
   "cell_type": "code",
   "execution_count": 37,
   "metadata": {},
   "outputs": [
    {
     "name": "stdout",
     "output_type": "stream",
     "text": [
      "25\n"
     ]
    }
   ],
   "source": [
    "my_num = 5\n",
    "print(pow(my_num,2))"
   ]
  },
  {
   "cell_type": "code",
   "execution_count": 39,
   "metadata": {},
   "outputs": [
    {
     "name": "stdout",
     "output_type": "stream",
     "text": [
      "9\n"
     ]
    }
   ],
   "source": [
    "my_num = 5\n",
    "print(my_num)"
   ]
  },
  {
   "cell_type": "code",
   "execution_count": 41,
   "metadata": {},
   "outputs": [
    {
     "name": "stdout",
     "output_type": "stream",
     "text": [
      "9\n"
     ]
    }
   ],
   "source": [
    "my_num = 5\n",
    "print(max(my_num,5,7,9))"
   ]
  },
  {
   "cell_type": "code",
   "execution_count": 42,
   "metadata": {},
   "outputs": [
    {
     "name": "stdout",
     "output_type": "stream",
     "text": [
      "5\n"
     ]
    }
   ],
   "source": [
    "my_num = 5\n",
    "print(min(my_num,5,7,9))"
   ]
  },
  {
   "cell_type": "code",
   "execution_count": 40,
   "metadata": {},
   "outputs": [
    {
     "name": "stdout",
     "output_type": "stream",
     "text": [
      "6\n"
     ]
    }
   ],
   "source": [
    "my_num = 5.765\n",
    "print(round(my_num))"
   ]
  },
  {
   "cell_type": "code",
   "execution_count": 43,
   "metadata": {},
   "outputs": [
    {
     "name": "stdout",
     "output_type": "stream",
     "text": [
      "5\n"
     ]
    }
   ],
   "source": [
    "from math import*\n",
    "my_num = 5.765\n",
    "print(floor(my_num))"
   ]
  },
  {
   "cell_type": "code",
   "execution_count": 44,
   "metadata": {},
   "outputs": [
    {
     "name": "stdout",
     "output_type": "stream",
     "text": [
      "6\n"
     ]
    }
   ],
   "source": [
    "from math import*\n",
    "my_num = 5.765\n",
    "print(ceil(my_num))"
   ]
  },
  {
   "cell_type": "code",
   "execution_count": 45,
   "metadata": {},
   "outputs": [
    {
     "name": "stdout",
     "output_type": "stream",
     "text": [
      "2.401041440708594\n"
     ]
    }
   ],
   "source": [
    "from math import*\n",
    "my_num = 5.765\n",
    "print(sqrt(my_num))"
   ]
  },
  {
   "cell_type": "markdown",
   "metadata": {},
   "source": [
    "# getting input from users"
   ]
  },
  {
   "cell_type": "code",
   "execution_count": 3,
   "metadata": {},
   "outputs": [
    {
     "name": "stdout",
     "output_type": "stream",
     "text": [
      "Enter your name kishan\n",
      "hello kishan.\n"
     ]
    }
   ],
   "source": [
    "name = input(\"Enter your name \")\n",
    "print(\"hello \"+name+ \".\")\n"
   ]
  },
  {
   "cell_type": "code",
   "execution_count": 4,
   "metadata": {},
   "outputs": [
    {
     "name": "stdout",
     "output_type": "stream",
     "text": [
      "Enter your name kishan\n",
      "Enter your age21\n",
      "hello kishan.your are 21 \n"
     ]
    }
   ],
   "source": [
    "name = input(\"Enter your name \")\n",
    "age = input(\"Enter your age\")\n",
    "print(\"hello \"+name+ \".your are \"+age+\" \")\n"
   ]
  },
  {
   "cell_type": "markdown",
   "metadata": {},
   "source": [
    "# building a basic calculator"
   ]
  },
  {
   "cell_type": "code",
   "execution_count": 1,
   "metadata": {},
   "outputs": [
    {
     "name": "stdout",
     "output_type": "stream",
     "text": [
      "Enter a number 5\n",
      "Enter another number 4\n",
      "54\n"
     ]
    }
   ],
   "source": [
    "num1 = input(\"Enter a number \")\n",
    "num2 = input(\"Enter another number \")\n",
    "result = num1+num2 #it is work like string\n",
    "print(result)"
   ]
  },
  {
   "cell_type": "code",
   "execution_count": 2,
   "metadata": {},
   "outputs": [
    {
     "name": "stdout",
     "output_type": "stream",
     "text": [
      "Enter a number 5\n",
      "Enter another number 5\n",
      "10\n"
     ]
    }
   ],
   "source": [
    "num1 = input(\"Enter a number \")\n",
    "num2 = input(\"Enter another number \")\n",
    "result = int(num1)+int(num2) \n",
    "print(result)"
   ]
  },
  {
   "cell_type": "code",
   "execution_count": 3,
   "metadata": {},
   "outputs": [
    {
     "name": "stdout",
     "output_type": "stream",
     "text": [
      "Enter a number 5.654\n",
      "Enter another number 2.456\n",
      "8.11\n"
     ]
    }
   ],
   "source": [
    "num1 = input(\"Enter a number \")\n",
    "num2 = input(\"Enter another number \")\n",
    "result = float(num1)+float(num2) \n",
    "print(result)"
   ]
  },
  {
   "cell_type": "markdown",
   "metadata": {},
   "source": [
    "# mad lib game\n"
   ]
  },
  {
   "cell_type": "code",
   "execution_count": 4,
   "metadata": {},
   "outputs": [
    {
     "name": "stdout",
     "output_type": "stream",
     "text": [
      "Rosees are red \n",
      "Violet are blue\n",
      "I love you\n"
     ]
    }
   ],
   "source": [
    "print(\"Rosees are red \")\n",
    "print(\"Violet are blue\")\n",
    "print(\"I love you\")\n"
   ]
  },
  {
   "cell_type": "code",
   "execution_count": 6,
   "metadata": {},
   "outputs": [
    {
     "name": "stdout",
     "output_type": "stream",
     "text": [
      "Enter your color: Magenta\n",
      "Enter a plural noun: Microwaves\n",
      "Enter a celebrity: srk\n",
      "Roses are Magenta\n",
      "Microwaves are blue\n",
      "I love you srk\n"
     ]
    }
   ],
   "source": [
    "color = input(\"Enter your color: \")\n",
    "plural_noun =  input(\"Enter a plural noun: \")\n",
    "celebrity = input(\"Enter a celebrity: \")\n",
    "\n",
    "print(\"Roses are \"+color)\n",
    "print(plural_noun +\" are blue\")\n",
    "print(\"I love you \"+celebrity)\n"
   ]
  },
  {
   "cell_type": "markdown",
   "metadata": {},
   "source": [
    "# Lists"
   ]
  },
  {
   "cell_type": "code",
   "execution_count": 7,
   "metadata": {},
   "outputs": [
    {
     "name": "stdout",
     "output_type": "stream",
     "text": [
      "['kishan', 'sahil', 'jim']\n"
     ]
    }
   ],
   "source": [
    "friends = [\"kishan\",\"sahil\",\"jim\"] #squre bracket related values\n",
    "print(friends)"
   ]
  },
  {
   "cell_type": "code",
   "execution_count": 8,
   "metadata": {},
   "outputs": [
    {
     "name": "stdout",
     "output_type": "stream",
     "text": [
      "jim\n"
     ]
    }
   ],
   "source": [
    "friends = [\"kishan\",\"sahil\",\"jim\"] #squre bracket related values\n",
    "print(friends[2])"
   ]
  },
  {
   "cell_type": "code",
   "execution_count": 10,
   "metadata": {},
   "outputs": [
    {
     "name": "stdout",
     "output_type": "stream",
     "text": [
      "sahil\n"
     ]
    }
   ],
   "source": [
    "friends = [\"kishan\",\"sahil\",\"jim\"] #squre bracket related values\n",
    "print(friends[-2])"
   ]
  },
  {
   "cell_type": "code",
   "execution_count": 11,
   "metadata": {},
   "outputs": [
    {
     "name": "stdout",
     "output_type": "stream",
     "text": [
      "['sahil', 'jim']\n"
     ]
    }
   ],
   "source": [
    "friends = [\"kishan\",\"sahil\",\"jim\"] #squre bracket related values\n",
    "print(friends[1:])"
   ]
  },
  {
   "cell_type": "code",
   "execution_count": 13,
   "metadata": {},
   "outputs": [
    {
     "name": "stdout",
     "output_type": "stream",
     "text": [
      "['kishan', 'sahil', 'jim']\n"
     ]
    }
   ],
   "source": [
    "friends = [\"kishan\",\"sahil\",\"jim\",\"arush\",\"rakesh\"] #squre bracket related values\n",
    "print(friends[:3])"
   ]
  },
  {
   "cell_type": "code",
   "execution_count": 15,
   "metadata": {},
   "outputs": [
    {
     "name": "stdout",
     "output_type": "stream",
     "text": [
      "mike\n",
      "['kishan', 'sahil', 'mike', 'arush', 'rakesh']\n"
     ]
    }
   ],
   "source": [
    "friends = [\"kishan\",\"sahil\",\"jim\",\"arush\",\"rakesh\"] #squre bracket related values\n",
    "friends[2] = \"mike\" \n",
    "print(friends[2])\n",
    "print(friends)"
   ]
  },
  {
   "cell_type": "markdown",
   "metadata": {},
   "source": [
    "# List Functions"
   ]
  },
  {
   "cell_type": "code",
   "execution_count": 19,
   "metadata": {},
   "outputs": [
    {
     "name": "stdout",
     "output_type": "stream",
     "text": [
      "['kishan', 'sahil', 'jim', 'arush', 'rakesh', 'abhi']\n"
     ]
    }
   ],
   "source": [
    "\n",
    "friends = [\"kishan\",\"sahil\",\"jim\",\"arush\",\"rakesh\"]\n",
    "friends.append(\"abhi\")\n",
    "print(friends)\n"
   ]
  },
  {
   "cell_type": "code",
   "execution_count": 20,
   "metadata": {},
   "outputs": [
    {
     "name": "stdout",
     "output_type": "stream",
     "text": [
      "['kishan', 'abhi', 'sahil', 'jim', 'arush', 'rakesh']\n"
     ]
    }
   ],
   "source": [
    "\n",
    "friends = [\"kishan\",\"sahil\",\"jim\",\"arush\",\"rakesh\"]\n",
    "friends.insert(1,\"abhi\")\n",
    "print(friends)"
   ]
  },
  {
   "cell_type": "code",
   "execution_count": 21,
   "metadata": {},
   "outputs": [
    {
     "name": "stdout",
     "output_type": "stream",
     "text": [
      "['sahil', 'jim', 'arush', 'rakesh']\n"
     ]
    }
   ],
   "source": [
    "friends = [\"kishan\",\"sahil\",\"jim\",\"arush\",\"rakesh\"]\n",
    "friends.remove(\"kishan\")\n",
    "print(friends)"
   ]
  },
  {
   "cell_type": "code",
   "execution_count": 22,
   "metadata": {},
   "outputs": [
    {
     "name": "stdout",
     "output_type": "stream",
     "text": [
      "[]\n"
     ]
    }
   ],
   "source": [
    "friends = [\"kishan\",\"sahil\",\"jim\",\"arush\",\"rakesh\"]\n",
    "friends.clear()\n",
    "print(friends)"
   ]
  },
  {
   "cell_type": "code",
   "execution_count": 23,
   "metadata": {},
   "outputs": [
    {
     "name": "stdout",
     "output_type": "stream",
     "text": [
      "['kishan', 'sahil', 'jim', 'arush']\n"
     ]
    }
   ],
   "source": [
    "friends = [\"kishan\",\"sahil\",\"jim\",\"arush\",\"rakesh\"]\n",
    "friends.pop()\n",
    "print(friends)"
   ]
  },
  {
   "cell_type": "code",
   "execution_count": 25,
   "metadata": {},
   "outputs": [
    {
     "name": "stdout",
     "output_type": "stream",
     "text": [
      "2\n"
     ]
    }
   ],
   "source": [
    "friends = [\"kishan\",\"sahil\",\"jim\",\"arush\",\"rakesh\"]\n",
    "\n",
    "print(friends.index(\"jim\"))"
   ]
  },
  {
   "cell_type": "code",
   "execution_count": 26,
   "metadata": {},
   "outputs": [
    {
     "name": "stdout",
     "output_type": "stream",
     "text": [
      "3\n"
     ]
    }
   ],
   "source": [
    "friends = [\"kishan\",\"sahil\",\"jim\",\"jim\",\"jim\",\"arush\",\"rakesh\"]\n",
    "\n",
    "print(friends.count(\"jim\"))"
   ]
  },
  {
   "cell_type": "code",
   "execution_count": 27,
   "metadata": {},
   "outputs": [
    {
     "name": "stdout",
     "output_type": "stream",
     "text": [
      "['arush', 'jim', 'kishan', 'rakesh', 'sahil']\n"
     ]
    }
   ],
   "source": [
    "friends = [\"kishan\",\"sahil\",\"jim\",\"arush\",\"rakesh\"]\n",
    "friends.sort()\n",
    "print(friends)"
   ]
  },
  {
   "cell_type": "code",
   "execution_count": 29,
   "metadata": {},
   "outputs": [
    {
     "name": "stdout",
     "output_type": "stream",
     "text": [
      "[18, 32, 56, 76, 87, 98]\n"
     ]
    }
   ],
   "source": [
    "lucky_number = [56,76,87,32,98,18]\n",
    "lucky_number.sort()\n",
    "print(lucky_number)"
   ]
  },
  {
   "cell_type": "code",
   "execution_count": 30,
   "metadata": {},
   "outputs": [
    {
     "name": "stdout",
     "output_type": "stream",
     "text": [
      "[18, 98, 32, 87, 76, 56]\n"
     ]
    }
   ],
   "source": [
    "lucky_number = [56,76,87,32,98,18]\n",
    "lucky_number.reverse()\n",
    "print(lucky_number)"
   ]
  },
  {
   "cell_type": "code",
   "execution_count": 32,
   "metadata": {},
   "outputs": [
    {
     "name": "stdout",
     "output_type": "stream",
     "text": [
      "[56, 76, 87, 32, 98, 18]\n"
     ]
    }
   ],
   "source": [
    "lucky_number = [56,76,87,32,98,18]\n",
    "lucky_number2 = lucky_number.copy()\n",
    "print(lucky_number2)"
   ]
  },
  {
   "cell_type": "markdown",
   "metadata": {},
   "source": [
    "# Tuples"
   ]
  },
  {
   "cell_type": "code",
   "execution_count": 34,
   "metadata": {},
   "outputs": [
    {
     "name": "stdout",
     "output_type": "stream",
     "text": [
      "5\n"
     ]
    }
   ],
   "source": [
    "coordinates = (4,5)\n",
    "print(coordinates[1])"
   ]
  },
  {
   "cell_type": "code",
   "execution_count": 36,
   "metadata": {},
   "outputs": [
    {
     "ename": "TypeError",
     "evalue": "'tuple' object does not support item assignment",
     "output_type": "error",
     "traceback": [
      "\u001b[1;31m---------------------------------------------------------------------------\u001b[0m",
      "\u001b[1;31mTypeError\u001b[0m                                 Traceback (most recent call last)",
      "\u001b[1;32m<ipython-input-36-e72d27c8ec80>\u001b[0m in \u001b[0;36m<module>\u001b[1;34m\u001b[0m\n\u001b[0;32m      1\u001b[0m \u001b[0mcoordinates\u001b[0m \u001b[1;33m=\u001b[0m \u001b[1;33m(\u001b[0m\u001b[1;36m4\u001b[0m\u001b[1;33m,\u001b[0m\u001b[1;36m5\u001b[0m\u001b[1;33m)\u001b[0m\u001b[1;33m\u001b[0m\u001b[0m\n\u001b[1;32m----> 2\u001b[1;33m \u001b[0mcoordinates\u001b[0m\u001b[1;33m[\u001b[0m\u001b[1;36m1\u001b[0m\u001b[1;33m]\u001b[0m\u001b[1;33m=\u001b[0m \u001b[1;36m10\u001b[0m\u001b[1;33m\u001b[0m\u001b[0m\n\u001b[0m\u001b[0;32m      3\u001b[0m \u001b[0mprint\u001b[0m\u001b[1;33m(\u001b[0m\u001b[0mcoordinates\u001b[0m\u001b[1;33m)\u001b[0m\u001b[1;33m\u001b[0m\u001b[0m\n",
      "\u001b[1;31mTypeError\u001b[0m: 'tuple' object does not support item assignment"
     ]
    }
   ],
   "source": [
    "coordinates = (4,5)\n",
    "coordinates[1]= 10\n",
    "print(coordinates)"
   ]
  },
  {
   "cell_type": "code",
   "execution_count": 38,
   "metadata": {},
   "outputs": [
    {
     "name": "stdout",
     "output_type": "stream",
     "text": [
      "[(4, 5), (10, 7), (2, 9)]\n"
     ]
    }
   ],
   "source": [
    "coordinates = [(4,5),(2,8),(2,9)]\n",
    "coordinates[1]= 10,7\n",
    "print(coordinates)"
   ]
  },
  {
   "cell_type": "markdown",
   "metadata": {},
   "source": [
    "# list vs Tuples\n",
    "1\tLists are mutable\t                                  Tuples are immutable\n",
    "2\tImplication of iterations is Time-consuming\t          The implication of iterations is comparatively Faster\n",
    "3\tThe list is better for performing operations          Tuple data type is appropriate for accessing the elements\n",
    "    such as insertion and deletion.\t                 \n",
    "4\tLists consume more memory\t                          Tuple consume less memory as compared to the list\n",
    "5\tLists have several built-in methods                   Tuple does not have many built-in methods.\n",
    "6\tThe unexpected changes and errors are more            In tuple, it is hard to take place.\n",
    "   likely to occur   "
   ]
  },
  {
   "cell_type": "markdown",
   "metadata": {},
   "source": [
    "# function"
   ]
  },
  {
   "cell_type": "code",
   "execution_count": 39,
   "metadata": {},
   "outputs": [],
   "source": [
    "def say_hi():\n",
    "    print(\"Hello User\")"
   ]
  },
  {
   "cell_type": "code",
   "execution_count": 40,
   "metadata": {},
   "outputs": [
    {
     "name": "stdout",
     "output_type": "stream",
     "text": [
      "top\n",
      "Hello User\n",
      "bottom\n"
     ]
    }
   ],
   "source": [
    "def say_hi():          #call function\n",
    "    print(\"Hello User\")\n",
    "print(\"top\")\n",
    "say_hi()\n",
    "print(\"bottom\")\n"
   ]
  },
  {
   "cell_type": "code",
   "execution_count": 41,
   "metadata": {},
   "outputs": [
    {
     "name": "stdout",
     "output_type": "stream",
     "text": [
      "Hello User kishan\n",
      "Hello User arush\n"
     ]
    }
   ],
   "source": [
    "def say_hi(name):         \n",
    "    print(\"Hello User \"+name)\n",
    "    \n",
    "say_hi(\"kishan\")\n",
    "say_hi(\"arush\")"
   ]
  },
  {
   "cell_type": "code",
   "execution_count": 42,
   "metadata": {},
   "outputs": [
    {
     "ename": "TypeError",
     "evalue": "can only concatenate str (not \"int\") to str",
     "output_type": "error",
     "traceback": [
      "\u001b[1;31m---------------------------------------------------------------------------\u001b[0m",
      "\u001b[1;31mTypeError\u001b[0m                                 Traceback (most recent call last)",
      "\u001b[1;32m<ipython-input-42-e399e3df93b6>\u001b[0m in \u001b[0;36m<module>\u001b[1;34m\u001b[0m\n\u001b[0;32m      2\u001b[0m     \u001b[0mprint\u001b[0m\u001b[1;33m(\u001b[0m\u001b[1;34m\"Hello User \"\u001b[0m\u001b[1;33m+\u001b[0m\u001b[0mname\u001b[0m\u001b[1;33m+\u001b[0m\u001b[1;34m\",\"\u001b[0m\u001b[1;33m+\u001b[0m\u001b[0mage\u001b[0m\u001b[1;33m)\u001b[0m\u001b[1;33m\u001b[0m\u001b[0m\n\u001b[0;32m      3\u001b[0m \u001b[1;33m\u001b[0m\u001b[0m\n\u001b[1;32m----> 4\u001b[1;33m \u001b[0msay_hi\u001b[0m\u001b[1;33m(\u001b[0m\u001b[1;34m\"kishan\"\u001b[0m\u001b[1;33m,\u001b[0m\u001b[1;36m25\u001b[0m\u001b[1;33m)\u001b[0m\u001b[1;33m\u001b[0m\u001b[0m\n\u001b[0m\u001b[0;32m      5\u001b[0m \u001b[0msay_hi\u001b[0m\u001b[1;33m(\u001b[0m\u001b[1;34m\"arush\"\u001b[0m\u001b[1;33m,\u001b[0m\u001b[1;36m30\u001b[0m\u001b[1;33m)\u001b[0m\u001b[1;33m\u001b[0m\u001b[0m\n",
      "\u001b[1;32m<ipython-input-42-e399e3df93b6>\u001b[0m in \u001b[0;36msay_hi\u001b[1;34m(name, age)\u001b[0m\n\u001b[0;32m      1\u001b[0m \u001b[1;32mdef\u001b[0m \u001b[0msay_hi\u001b[0m\u001b[1;33m(\u001b[0m\u001b[0mname\u001b[0m\u001b[1;33m,\u001b[0m\u001b[0mage\u001b[0m\u001b[1;33m)\u001b[0m\u001b[1;33m:\u001b[0m\u001b[1;33m\u001b[0m\u001b[0m\n\u001b[1;32m----> 2\u001b[1;33m     \u001b[0mprint\u001b[0m\u001b[1;33m(\u001b[0m\u001b[1;34m\"Hello User \"\u001b[0m\u001b[1;33m+\u001b[0m\u001b[0mname\u001b[0m\u001b[1;33m+\u001b[0m\u001b[1;34m\",\"\u001b[0m\u001b[1;33m+\u001b[0m\u001b[0mage\u001b[0m\u001b[1;33m)\u001b[0m\u001b[1;33m\u001b[0m\u001b[0m\n\u001b[0m\u001b[0;32m      3\u001b[0m \u001b[1;33m\u001b[0m\u001b[0m\n\u001b[0;32m      4\u001b[0m \u001b[0msay_hi\u001b[0m\u001b[1;33m(\u001b[0m\u001b[1;34m\"kishan\"\u001b[0m\u001b[1;33m,\u001b[0m\u001b[1;36m25\u001b[0m\u001b[1;33m)\u001b[0m\u001b[1;33m\u001b[0m\u001b[0m\n\u001b[0;32m      5\u001b[0m \u001b[0msay_hi\u001b[0m\u001b[1;33m(\u001b[0m\u001b[1;34m\"arush\"\u001b[0m\u001b[1;33m,\u001b[0m\u001b[1;36m30\u001b[0m\u001b[1;33m)\u001b[0m\u001b[1;33m\u001b[0m\u001b[0m\n",
      "\u001b[1;31mTypeError\u001b[0m: can only concatenate str (not \"int\") to str"
     ]
    }
   ],
   "source": [
    "def say_hi(name,age):         \n",
    "    print(\"Hello User \"+name+\",\"+age)\n",
    "    \n",
    "say_hi(\"kishan\",25)\n",
    "say_hi(\"arush\",30)"
   ]
  },
  {
   "cell_type": "code",
   "execution_count": 43,
   "metadata": {},
   "outputs": [
    {
     "name": "stdout",
     "output_type": "stream",
     "text": [
      "Hello User kishan,25\n",
      "Hello User arush,30\n"
     ]
    }
   ],
   "source": [
    "def say_hi(name,age):         \n",
    "    print(\"Hello User \"+name+\",\"+str(age))\n",
    "    \n",
    "say_hi(\"kishan\",25)\n",
    "say_hi(\"arush\",30)"
   ]
  },
  {
   "cell_type": "markdown",
   "metadata": {},
   "source": [
    "# Return staement"
   ]
  },
  {
   "cell_type": "code",
   "execution_count": 44,
   "metadata": {},
   "outputs": [
    {
     "name": "stdout",
     "output_type": "stream",
     "text": [
      "None\n"
     ]
    }
   ],
   "source": [
    "def cube(num):\n",
    "    num*num*num\n",
    "print(cube(3))"
   ]
  },
  {
   "cell_type": "code",
   "execution_count": 45,
   "metadata": {},
   "outputs": [
    {
     "name": "stdout",
     "output_type": "stream",
     "text": [
      "27\n"
     ]
    }
   ],
   "source": [
    "def cube(num):\n",
    "   return num*num*num\n",
    "print(cube(3))"
   ]
  },
  {
   "cell_type": "code",
   "execution_count": 46,
   "metadata": {},
   "outputs": [
    {
     "name": "stdout",
     "output_type": "stream",
     "text": [
      "27\n"
     ]
    }
   ],
   "source": [
    "def cube(num):\n",
    "    return num*num*num\n",
    "result = cube(3)\n",
    "print(result)"
   ]
  },
  {
   "cell_type": "markdown",
   "metadata": {},
   "source": [
    "# if statement"
   ]
  },
  {
   "cell_type": "code",
   "execution_count": 47,
   "metadata": {},
   "outputs": [
    {
     "name": "stdout",
     "output_type": "stream",
     "text": [
      "You are a male\n"
     ]
    }
   ],
   "source": [
    "is_male =  True\n",
    "if is_male:\n",
    "    print(\"You are a male\")\n",
    "else:\n",
    "    print(\"you are not male\")"
   ]
  },
  {
   "cell_type": "code",
   "execution_count": 48,
   "metadata": {},
   "outputs": [
    {
     "name": "stdout",
     "output_type": "stream",
     "text": [
      "you are not male\n"
     ]
    }
   ],
   "source": [
    "is_male =  False\n",
    "if is_male:\n",
    "    print(\"You are a male\")\n",
    "else:\n",
    "    print(\"you are not male\")"
   ]
  },
  {
   "cell_type": "code",
   "execution_count": 49,
   "metadata": {},
   "outputs": [
    {
     "name": "stdout",
     "output_type": "stream",
     "text": [
      "You are a male or tall or both\n"
     ]
    }
   ],
   "source": [
    "is_male =  True\n",
    "is_tall = True\n",
    "if is_male or is_tall:\n",
    "    print(\"You are a male or tall or both\")\n",
    "else:\n",
    "    print(\"you neither male nor tall\")"
   ]
  },
  {
   "cell_type": "code",
   "execution_count": 50,
   "metadata": {},
   "outputs": [
    {
     "name": "stdout",
     "output_type": "stream",
     "text": [
      "You are a male or tall or both\n"
     ]
    }
   ],
   "source": [
    "is_male =  False\n",
    "is_tall = True\n",
    "if is_male or is_tall:\n",
    "    print(\"You are a male or tall or both\")\n",
    "else:\n",
    "    print(\"you neither male nor tall\")"
   ]
  },
  {
   "cell_type": "code",
   "execution_count": 51,
   "metadata": {},
   "outputs": [
    {
     "name": "stdout",
     "output_type": "stream",
     "text": [
      "You are a tall male\n"
     ]
    }
   ],
   "source": [
    "is_male =  True\n",
    "is_tall = True\n",
    "if is_male and is_tall:\n",
    "    print(\"You are a tall male\")\n",
    "else:\n",
    "    print(\"you are either male or not tall or both\")"
   ]
  },
  {
   "cell_type": "code",
   "execution_count": 52,
   "metadata": {},
   "outputs": [
    {
     "name": "stdout",
     "output_type": "stream",
     "text": [
      "you are either male or not tall or both\n"
     ]
    }
   ],
   "source": [
    "is_male =  True\n",
    "is_tall = False\n",
    "if is_male and is_tall:\n",
    "    print(\"You are a tall male\")\n",
    "else:\n",
    "    print(\"you are either male or not tall or both\")"
   ]
  },
  {
   "cell_type": "code",
   "execution_count": 55,
   "metadata": {},
   "outputs": [
    {
     "name": "stdout",
     "output_type": "stream",
     "text": [
      "You are a tall male\n"
     ]
    }
   ],
   "source": [
    "is_male =  True\n",
    "is_tall = True\n",
    "if is_male and is_tall:\n",
    "    print(\"You are a tall male\")\n",
    "elif is_male and not(is_tall):\n",
    "    print(\"You are a short male \")\n",
    "elif  not is_male and (is_tall):\n",
    "    print(\"you are not a male but are tall \")     \n",
    "else:\n",
    "    print(\"you are either male or not tall or both\")"
   ]
  },
  {
   "cell_type": "code",
   "execution_count": 56,
   "metadata": {},
   "outputs": [
    {
     "name": "stdout",
     "output_type": "stream",
     "text": [
      "you are not a male but are tall \n"
     ]
    }
   ],
   "source": [
    "is_male =  False\n",
    "is_tall = True\n",
    "if is_male and is_tall:\n",
    "    print(\"You are a tall male\")\n",
    "elif is_male and not(is_tall):\n",
    "    print(\"You are a short male \")\n",
    "elif  not is_male and (is_tall):\n",
    "    print(\"you are not a male but are tall \")     \n",
    "else:\n",
    "    print(\"you are either male or not tall or both\")"
   ]
  },
  {
   "cell_type": "code",
   "execution_count": 57,
   "metadata": {},
   "outputs": [
    {
     "name": "stdout",
     "output_type": "stream",
     "text": [
      "You are a short male \n"
     ]
    }
   ],
   "source": [
    "is_male =  True\n",
    "is_tall = False\n",
    "if is_male and is_tall:\n",
    "    print(\"You are a tall male\")\n",
    "elif is_male and not(is_tall):\n",
    "    print(\"You are a short male \")\n",
    "elif  not is_male and (is_tall):\n",
    "    print(\"you are not a male but are tall \")     \n",
    "else:\n",
    "    print(\"you are either male or not tall or both\")"
   ]
  },
  {
   "cell_type": "code",
   "execution_count": 58,
   "metadata": {},
   "outputs": [
    {
     "name": "stdout",
     "output_type": "stream",
     "text": [
      "you are either male or not tall or both\n"
     ]
    }
   ],
   "source": [
    "is_male =  False\n",
    "is_tall = False\n",
    "if is_male and is_tall:\n",
    "    print(\"You are a tall male\")\n",
    "elif is_male and not(is_tall):\n",
    "    print(\"You are a short male \")\n",
    "elif  not is_male and (is_tall):\n",
    "    print(\"you are not a male but are tall \")     \n",
    "else:\n",
    "    print(\"you are either male or not tall or both\")"
   ]
  },
  {
   "cell_type": "markdown",
   "metadata": {},
   "source": [
    "# if statement and Comparisons"
   ]
  },
  {
   "cell_type": "code",
   "execution_count": 61,
   "metadata": {},
   "outputs": [
    {
     "name": "stdout",
     "output_type": "stream",
     "text": [
      "5\n"
     ]
    }
   ],
   "source": [
    "def max_num(num1,num2,num3):\n",
    "    if num1>=num2 and num1>=num3:\n",
    "        return num1\n",
    "    elif num2>=num1 and num2>=num3:\n",
    "        return num2\n",
    "    else:\n",
    "        return num3\n",
    "print(max_num(3,4,5))\n",
    " #check comparison operator   \n",
    "    \n",
    "    "
   ]
  },
  {
   "cell_type": "markdown",
   "metadata": {},
   "source": [
    "# Building a better Calculator"
   ]
  },
  {
   "cell_type": "code",
   "execution_count": 64,
   "metadata": {},
   "outputs": [
    {
     "name": "stdout",
     "output_type": "stream",
     "text": [
      "Enter first number: 5\n",
      "Enter operator:+\n",
      "Enter first second: 5\n",
      "10.0\n"
     ]
    }
   ],
   "source": [
    "num1 = float(input(\"Enter first number: \"))\n",
    "op = (input(\"Enter operator:\"))\n",
    "num2 = float(input(\"Enter first second: \"))\n",
    "if op ==\"+\":\n",
    "    print(num1+num2)\n",
    "elif op ==\"-\":\n",
    "    print(num1-num2)\n",
    "elif op ==\"/\":\n",
    "    print(num1/num2)\n",
    "elif op == \"*\":\n",
    "    print(num1*num2)\n",
    "else:\n",
    "    print(\"invalid operator\")\n",
    "    "
   ]
  },
  {
   "cell_type": "markdown",
   "metadata": {},
   "source": [
    "# dictionaries"
   ]
  },
  {
   "cell_type": "code",
   "execution_count": 67,
   "metadata": {},
   "outputs": [
    {
     "name": "stdout",
     "output_type": "stream",
     "text": [
      "March\n"
     ]
    }
   ],
   "source": [
    "monthConversions = {\"jan\": \"january\",\n",
    "                   \"Feb\": \"February\",\n",
    "                   \"Mar\":\"March\",\n",
    "                   \"Apr\":\"April\",\n",
    "                   \"May\":\"May\",\n",
    "                   \"Jun\":\"June\",\n",
    "                   \"Jul\":\"July\",\n",
    "                   \"Aug\":\"August\",\n",
    "                   \"Sep\":\"September\",\n",
    "                   \"Oct\":\"October\",\n",
    "                   \"Nov\":\"November\",\n",
    "                   \"Dec\":\"December\",\n",
    "}\n",
    "print(monthConversions[\"Mar\"])\n"
   ]
  },
  {
   "cell_type": "code",
   "execution_count": 68,
   "metadata": {},
   "outputs": [
    {
     "name": "stdout",
     "output_type": "stream",
     "text": [
      "Not a valid key\n"
     ]
    }
   ],
   "source": [
    "monthConversions = {\"jan\": \"january\",\n",
    "                   \"Feb\": \"February\",\n",
    "                   \"Mar\":\"March\",\n",
    "                   \"Apr\":\"April\",\n",
    "                   \"May\":\"May\",\n",
    "                   \"Jun\":\"June\",\n",
    "                   \"Jul\":\"July\",\n",
    "                   \"Aug\":\"August\",\n",
    "                   \"Sep\":\"September\",\n",
    "                   \"Oct\":\"October\",\n",
    "                   \"Nov\":\"November\",\n",
    "                   \"Dec\":\"December\",\n",
    "}\n",
    "print(monthConversions.get(\"Luv\",\"Not a valid key\"))"
   ]
  },
  {
   "cell_type": "markdown",
   "metadata": {},
   "source": [
    "# While loop"
   ]
  },
  {
   "cell_type": "code",
   "execution_count": 69,
   "metadata": {},
   "outputs": [
    {
     "name": "stdout",
     "output_type": "stream",
     "text": [
      "1\n",
      "2\n",
      "3\n",
      "4\n",
      "5\n",
      "6\n",
      "7\n",
      "8\n",
      "9\n",
      "10\n",
      "done with loop\n"
     ]
    }
   ],
   "source": [
    "i= 1 #initialize\n",
    "while i<=10: #condition\n",
    "    print(i)\n",
    "    i=i+1 #i+=1 #increment or decrement\n",
    "print(\"done with loop\")"
   ]
  },
  {
   "cell_type": "markdown",
   "metadata": {},
   "source": [
    "# Building a Guessing Game"
   ]
  },
  {
   "cell_type": "code",
   "execution_count": 70,
   "metadata": {},
   "outputs": [
    {
     "name": "stdout",
     "output_type": "stream",
     "text": [
      "Enter guessgfnc\n",
      "Enter guessdfghnfg\n",
      "Enter guessdfh\n",
      "Enter guessfhfd\n",
      "Enter guessdfh\n",
      "Enter guessgiraffe\n",
      "you win\n"
     ]
    }
   ],
   "source": [
    "secret_word =\"giraffe\"\n",
    "guess = \"\"\n",
    "while guess!=secret_word:\n",
    "    guess=input(\"Enter guess\")\n",
    "print(\"you win\")"
   ]
  },
  {
   "cell_type": "code",
   "execution_count": 1,
   "metadata": {},
   "outputs": [
    {
     "name": "stdout",
     "output_type": "stream",
     "text": [
      "Enter guessHGJGH\n",
      "Enter guessGJH\n",
      "Enter guessgiraffe\n",
      "you win\n"
     ]
    }
   ],
   "source": [
    "secret_word =\"giraffe\"\n",
    "guess = \"\"\n",
    "guess_count =0\n",
    "guess_limit = 3\n",
    "out_of_guesses= False\n",
    "while guess!=secret_word:\n",
    "    if guess_count<guess_limit:\n",
    "        guess=input(\"Enter guess: \")\n",
    "        guess_count+=1\n",
    "    else:\n",
    "        out_of_guesses =True\n",
    "        \n",
    "if out_of_guesses:\n",
    "    print(\"Out of guesses,You LOSE!\")\n",
    "else:\n",
    "    print(\"you win\")"
   ]
  },
  {
   "cell_type": "markdown",
   "metadata": {},
   "source": [
    "# For Loop"
   ]
  },
  {
   "cell_type": "code",
   "execution_count": 2,
   "metadata": {},
   "outputs": [
    {
     "name": "stdout",
     "output_type": "stream",
     "text": [
      "k\n",
      "i\n",
      "s\n",
      "h\n",
      "a\n",
      "n\n",
      " \n",
      "d\n",
      "o\n",
      "n\n",
      "g\n",
      "a\n",
      "r\n",
      "e\n"
     ]
    }
   ],
   "source": [
    "for letter in \"kishan dongare\":\n",
    "\n",
    "    print(letter)"
   ]
  },
  {
   "cell_type": "code",
   "execution_count": 4,
   "metadata": {},
   "outputs": [
    {
     "name": "stdout",
     "output_type": "stream",
     "text": [
      "jim\n",
      "arush\n",
      "sahil\n"
     ]
    }
   ],
   "source": [
    "friends = [\"jim\",\"arush\",\"sahil\"]\n",
    "for name in friends:\n",
    "    print(name)"
   ]
  },
  {
   "cell_type": "code",
   "execution_count": 5,
   "metadata": {},
   "outputs": [
    {
     "name": "stdout",
     "output_type": "stream",
     "text": [
      "0\n",
      "1\n",
      "2\n",
      "3\n",
      "4\n",
      "5\n",
      "6\n",
      "7\n",
      "8\n",
      "9\n"
     ]
    }
   ],
   "source": [
    "for index in range(10):\n",
    "    print(index)"
   ]
  },
  {
   "cell_type": "code",
   "execution_count": 6,
   "metadata": {},
   "outputs": [
    {
     "name": "stdout",
     "output_type": "stream",
     "text": [
      "3\n",
      "4\n",
      "5\n",
      "6\n",
      "7\n",
      "8\n",
      "9\n"
     ]
    }
   ],
   "source": [
    "for index in range(3,10):\n",
    "    print(index)"
   ]
  },
  {
   "cell_type": "code",
   "execution_count": 8,
   "metadata": {},
   "outputs": [
    {
     "name": "stdout",
     "output_type": "stream",
     "text": [
      "jim\n",
      "arush\n",
      "sahil\n"
     ]
    }
   ],
   "source": [
    "friends = [\"jim\",\"arush\",\"sahil\"]\n",
    "for index in range(len(friends)):\n",
    "    print(friends[index])"
   ]
  },
  {
   "cell_type": "markdown",
   "metadata": {},
   "source": [
    "# Exponent Function"
   ]
  },
  {
   "cell_type": "code",
   "execution_count": 9,
   "metadata": {},
   "outputs": [
    {
     "name": "stdout",
     "output_type": "stream",
     "text": [
      "8\n"
     ]
    }
   ],
   "source": [
    "print(2**3)\n"
   ]
  },
  {
   "cell_type": "code",
   "execution_count": 12,
   "metadata": {},
   "outputs": [
    {
     "name": "stdout",
     "output_type": "stream",
     "text": [
      "8\n"
     ]
    }
   ],
   "source": [
    "def raise_to_power(base_num,pow_num):\n",
    "    result=1\n",
    "    for index in range(pow_num):\n",
    "        result = result*base_num\n",
    "    return result\n",
    "print(raise_to_power(2,3))"
   ]
  },
  {
   "cell_type": "markdown",
   "metadata": {},
   "source": [
    "# 2D List &Nested Loops"
   ]
  },
  {
   "cell_type": "code",
   "execution_count": 13,
   "metadata": {},
   "outputs": [
    {
     "name": "stdout",
     "output_type": "stream",
     "text": [
      "5\n"
     ]
    }
   ],
   "source": [
    "number_grid = [\n",
    "    [1,2,3],\n",
    "    [4,5,6],\n",
    "    [7,8,9],\n",
    "    [0]   \n",
    "]\n",
    "print(number_grid[1][1])"
   ]
  },
  {
   "cell_type": "code",
   "execution_count": 14,
   "metadata": {},
   "outputs": [
    {
     "name": "stdout",
     "output_type": "stream",
     "text": [
      "8\n"
     ]
    }
   ],
   "source": [
    "number_grid = [\n",
    "    [1,2,3],\n",
    "    [4,5,6],\n",
    "    [7,8,9],\n",
    "    [0]   \n",
    "]\n",
    "print(number_grid[2][1])"
   ]
  },
  {
   "cell_type": "markdown",
   "metadata": {},
   "source": [
    "# Build a Translator"
   ]
  },
  {
   "cell_type": "code",
   "execution_count": 5,
   "metadata": {},
   "outputs": [
    {
     "name": "stdout",
     "output_type": "stream",
     "text": [
      "Entre a phrase :DOG\n",
      "DgG\n"
     ]
    }
   ],
   "source": [
    "def translate(phrase):\n",
    "    translation = \"\"\n",
    "    for letter in phrase:\n",
    "        if letter in \"AEIOUaeiou\":\n",
    "            translation = translation+\"g\"\n",
    "        else:\n",
    "            translation = translation +letter\n",
    "    return translation\n",
    "print(translate(input(\"Entre a phrase :\")))"
   ]
  },
  {
   "cell_type": "code",
   "execution_count": 4,
   "metadata": {},
   "outputs": [
    {
     "name": "stdout",
     "output_type": "stream",
     "text": [
      "Entre a phrase :DOG\n",
      "DGG\n"
     ]
    }
   ],
   "source": [
    "def translate(phrase):\n",
    "    translation = \"\"\n",
    "    for letter in phrase:\n",
    "        if letter.lower() in \"aeiou\":\n",
    "            if letter.isupper():\n",
    "                translation = translation+\"G\"\n",
    "            else:\n",
    "                translation = translation+\"g\"\n",
    "        else:\n",
    "            translation = translation +letter\n",
    "    return translation\n",
    "print(translate(input(\"Entre a phrase :\")))"
   ]
  },
  {
   "cell_type": "markdown",
   "metadata": {},
   "source": [
    "# COMMENTS"
   ]
  },
  {
   "cell_type": "code",
   "execution_count": 6,
   "metadata": {},
   "outputs": [
    {
     "name": "stdout",
     "output_type": "stream",
     "text": [
      "Comments are fun\n"
     ]
    }
   ],
   "source": [
    "'''\n",
    "this program is cool\n",
    "'''\n",
    "#this program is cool\n",
    "\n",
    "print(\"Comments are fun\")"
   ]
  },
  {
   "cell_type": "markdown",
   "metadata": {},
   "source": [
    "# Try/Except"
   ]
  },
  {
   "cell_type": "code",
   "execution_count": 8,
   "metadata": {},
   "outputs": [
    {
     "name": "stdout",
     "output_type": "stream",
     "text": [
      "Enter a numberohgioher\n"
     ]
    },
    {
     "ename": "ValueError",
     "evalue": "invalid literal for int() with base 10: 'ohgioher'",
     "output_type": "error",
     "traceback": [
      "\u001b[1;31m---------------------------------------------------------------------------\u001b[0m",
      "\u001b[1;31mValueError\u001b[0m                                Traceback (most recent call last)",
      "\u001b[1;32m<ipython-input-8-65ddb206bbb7>\u001b[0m in \u001b[0;36m<module>\u001b[1;34m\u001b[0m\n\u001b[1;32m----> 1\u001b[1;33m \u001b[0mnumber\u001b[0m \u001b[1;33m=\u001b[0m \u001b[0mint\u001b[0m\u001b[1;33m(\u001b[0m\u001b[0minput\u001b[0m\u001b[1;33m(\u001b[0m\u001b[1;34m\"Enter a number\"\u001b[0m\u001b[1;33m)\u001b[0m\u001b[1;33m)\u001b[0m\u001b[1;33m\u001b[0m\u001b[0m\n\u001b[0m\u001b[0;32m      2\u001b[0m \u001b[0mprint\u001b[0m\u001b[1;33m(\u001b[0m\u001b[0mnumber\u001b[0m\u001b[1;33m)\u001b[0m\u001b[1;33m\u001b[0m\u001b[0m\n",
      "\u001b[1;31mValueError\u001b[0m: invalid literal for int() with base 10: 'ohgioher'"
     ]
    }
   ],
   "source": [
    "number = int(input(\"Enter a number\"))\n",
    "print(number)"
   ]
  },
  {
   "cell_type": "code",
   "execution_count": 9,
   "metadata": {},
   "outputs": [
    {
     "name": "stdout",
     "output_type": "stream",
     "text": [
      "Enter a numberdhfi\n",
      "Invalid Input\n"
     ]
    }
   ],
   "source": [
    "try:\n",
    "    number = int(input(\"Enter a number\"))\n",
    "    print(number)\n",
    "except:\n",
    "    print(\"Invalid Input\")"
   ]
  },
  {
   "cell_type": "markdown",
   "metadata": {},
   "source": [
    "# Reading Files"
   ]
  },
  {
   "cell_type": "code",
   "execution_count": 10,
   "metadata": {},
   "outputs": [
    {
     "ename": "FileNotFoundError",
     "evalue": "[Errno 2] No such file or directory: 'employees.txt'",
     "output_type": "error",
     "traceback": [
      "\u001b[1;31m---------------------------------------------------------------------------\u001b[0m",
      "\u001b[1;31mFileNotFoundError\u001b[0m                         Traceback (most recent call last)",
      "\u001b[1;32m<ipython-input-10-eb31e77da06b>\u001b[0m in \u001b[0;36m<module>\u001b[1;34m\u001b[0m\n\u001b[1;32m----> 1\u001b[1;33m \u001b[0memployee_file\u001b[0m \u001b[1;33m=\u001b[0m \u001b[0mopen\u001b[0m\u001b[1;33m(\u001b[0m\u001b[1;34m\"employees.txt\"\u001b[0m\u001b[1;33m,\u001b[0m\u001b[1;34m\"r\"\u001b[0m\u001b[1;33m)\u001b[0m\u001b[1;33m\u001b[0m\u001b[0m\n\u001b[0m\u001b[0;32m      2\u001b[0m \u001b[0mprint\u001b[0m\u001b[1;33m(\u001b[0m\u001b[0memployee_file\u001b[0m\u001b[1;33m.\u001b[0m\u001b[0mread\u001b[0m\u001b[1;33m(\u001b[0m\u001b[1;33m)\u001b[0m\u001b[1;33m)\u001b[0m\u001b[1;33m\u001b[0m\u001b[0m\n\u001b[0;32m      3\u001b[0m \u001b[0memployee_file\u001b[0m\u001b[1;33m.\u001b[0m\u001b[0mclose\u001b[0m\u001b[1;33m(\u001b[0m\u001b[1;33m)\u001b[0m\u001b[1;33m\u001b[0m\u001b[0m\n",
      "\u001b[1;31mFileNotFoundError\u001b[0m: [Errno 2] No such file or directory: 'employees.txt'"
     ]
    }
   ],
   "source": [
    "employee_file = open(\"employees.txt\",\"r\")\n",
    "print(employee_file.read())\n",
    "employee_file.close()"
   ]
  },
  {
   "cell_type": "code",
   "execution_count": null,
   "metadata": {},
   "outputs": [],
   "source": [
    "employee_file = open(\"employees.txt\",\"r\")\n",
    "print(employee_file.readline())\n",
    "print(employee_file.readline())\n",
    "print(employee_file.readline())\n",
    "employee_file.close()"
   ]
  },
  {
   "cell_type": "code",
   "execution_count": null,
   "metadata": {},
   "outputs": [],
   "source": [
    "employee_file = open(\"employees.txt\",\"r\")\n",
    "for employee in employee_file.readline():\n",
    "    print(employee)\n",
    "employee_file.close()"
   ]
  },
  {
   "cell_type": "markdown",
   "metadata": {},
   "source": [
    "# Writing to Files"
   ]
  },
  {
   "cell_type": "code",
   "execution_count": null,
   "metadata": {},
   "outputs": [],
   "source": [
    "employee_file = open(\"employees.txt\",\"a\")\n",
    "employee_file.write(\"\\n Human Resource\")\n",
    "employee_file.close()"
   ]
  },
  {
   "cell_type": "markdown",
   "metadata": {},
   "source": [
    "# Classes &Object"
   ]
  },
  {
   "cell_type": "code",
   "execution_count": null,
   "metadata": {},
   "outputs": [],
   "source": [
    "class Student: #FIRST CREAT Student.py\n",
    "    def __init__(self,name,major,gpa,is_on_probation):\n",
    "        self.name = name\n",
    "        self.major = major\n",
    "        self.gpa = gpa\n",
    "        self.is_on _probation = is_on_probation"
   ]
  },
  {
   "cell_type": "code",
   "execution_count": null,
   "metadata": {},
   "outputs": [],
   "source": [
    "from Student import Student #app.py\n",
    "student1 = student(\"jim\",\"Business\",3.1,False)\n",
    "student2 = student(\"kisha\",\"Business\",4.6,True)\n",
    "print(Student1.name)\n",
    "print(Student2.gpa)"
   ]
  },
  {
   "cell_type": "markdown",
   "metadata": {},
   "source": [
    "# Object Function"
   ]
  },
  {
   "cell_type": "code",
   "execution_count": null,
   "metadata": {},
   "outputs": [],
   "source": [
    "class Student: #FIRST CREAT Student.py\n",
    "    def __init__(self,name,major,gpa,is_on_probation):\n",
    "        self.name = name\n",
    "        self.major = major\n",
    "        self.gpa = gpa\n",
    "    def on_honor_roll(self):\n",
    "        if self.gpa>3.5:\n",
    "            return True\n",
    "        else:\n",
    "            return False"
   ]
  },
  {
   "cell_type": "code",
   "execution_count": null,
   "metadata": {},
   "outputs": [],
   "source": [
    "from Student import Student #app.py\n",
    "student1 = student(\"jim\",\"Business\",3.1)\n",
    "student2 = student(\"kisha\",\"Business\",3.8)\n",
    "print(student1.on_honor_roll())\n",
    "print(student2.on_honor_roll())"
   ]
  },
  {
   "cell_type": "markdown",
   "metadata": {},
   "source": [
    "# Building a Multiple Choice Quiz"
   ]
  },
  {
   "cell_type": "code",
   "execution_count": null,
   "metadata": {},
   "outputs": [],
   "source": [
    "class Question: #Question.py\n",
    "    def __init__(self,prompt,answer):\n",
    "        self.prompt = prompt\n",
    "        self.answer= answer"
   ]
  },
  {
   "cell_type": "code",
   "execution_count": null,
   "metadata": {},
   "outputs": [],
   "source": [
    "from Question import Question #app.py\n",
    "question_prompt = [\n",
    "    \"what color are apples?\\n(a)read/green\\n(b)Purple\\n(c)orange\"\n",
    "    \n",
    "]\n",
    "Question = [\n",
    "    Question(question_prompt[0],\"a\")\n",
    "]\n",
    "def run_test(question):\n",
    "    score = 0\n",
    "    for question in question:\n",
    "        answer = input(question.prompt)\n",
    "        if answer == question.answer:\n",
    "            score+=1\n",
    "    print(\"you got\"+str(score)+\"/\"+str(len(question))+\"correct\")\n",
    "run_test(question)"
   ]
  },
  {
   "cell_type": "markdown",
   "metadata": {},
   "source": [
    "# Inheritance"
   ]
  },
  {
   "cell_type": "code",
   "execution_count": null,
   "metadata": {},
   "outputs": [],
   "source": [
    "class Chef:        #Chef.py\n",
    "    def make_chicken(self):\n",
    "        print(\"the chef makes a chicken\")\n",
    "    def make_salad(self):\n",
    "        print(\"the chef makes a salad\")\n",
    "    def make_special_dish(self):\n",
    "        print(\"the chef mskes a biryani\")\n",
    "    "
   ]
  },
  {
   "cell_type": "code",
   "execution_count": null,
   "metadata": {},
   "outputs": [],
   "source": [
    "class ChineseChef: #ChineseChef.py\n",
    "    def make_fried_rice(self):\n",
    "        print(\"the chef makes fried rice\")\n",
    "    "
   ]
  },
  {
   "cell_type": "code",
   "execution_count": null,
   "metadata": {},
   "outputs": [],
   "source": [
    "from Chef import Chef #app.py\n",
    "from ChineseChef import ChineseChef\n",
    "mychef = chef()\n",
    "mychef.make_special_dish()\n",
    "\n",
    "myChineseChef = ChineChef()\n",
    "myChineseChef.make_fried_rice()"
   ]
  },
  {
   "cell_type": "code",
   "execution_count": null,
   "metadata": {},
   "outputs": [],
   "source": [
    "#suppose we want to Chef() those make ChineseChef() also know how to make then we use inheritance"
   ]
  },
  {
   "cell_type": "code",
   "execution_count": 4,
   "metadata": {},
   "outputs": [],
   "source": [
    "class Chef:        #Chef.py\n",
    "    def make_chicken(self):\n",
    "        print(\"the chef makes a chicken\")\n",
    "    def make_salad(self):\n",
    "        print(\"the chef makes a salad\")\n",
    "    def make_special_dish(self):\n",
    "        print(\"the chef mskes a biryani\")\n",
    "    "
   ]
  },
  {
   "cell_type": "code",
   "execution_count": null,
   "metadata": {},
   "outputs": [],
   "source": [
    "from Chef import Chef #ChineseChef.py\n",
    "class ChineseChef(Chef):\n",
    "    def make_fried_rice(self):\n",
    "        print(\"the chef makes fried rice\")"
   ]
  },
  {
   "cell_type": "code",
   "execution_count": null,
   "metadata": {},
   "outputs": [],
   "source": [
    "from Chef import Chef #app.py\n",
    "from ChineseChef import ChineseChef\n",
    "mychef = chef()\n",
    "mychef.make_special_dish()\n",
    "\n",
    "myChineseChef = ChineChef()\n",
    "myChineseChef.make_Chicken()"
   ]
  },
  {
   "cell_type": "code",
   "execution_count": null,
   "metadata": {},
   "outputs": [],
   "source": [
    "Try this in PyCharm IDE"
   ]
  }
 ],
 "metadata": {
  "kernelspec": {
   "display_name": "Python 3",
   "language": "python",
   "name": "python3"
  },
  "language_info": {
   "codemirror_mode": {
    "name": "ipython",
    "version": 3
   },
   "file_extension": ".py",
   "mimetype": "text/x-python",
   "name": "python",
   "nbconvert_exporter": "python",
   "pygments_lexer": "ipython3",
   "version": "3.7.0"
  }
 },
 "nbformat": 4,
 "nbformat_minor": 4
}
