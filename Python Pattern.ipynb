{
 "cells": [
  {
   "cell_type": "code",
   "execution_count": 28,
   "id": "3f4bd80b",
   "metadata": {},
   "outputs": [
    {
     "name": "stdout",
     "output_type": "stream",
     "text": [
      "****\n",
      "****\n",
      "****\n",
      "****\n"
     ]
    }
   ],
   "source": [
    "for i in range(4):\n",
    "    for j in range(4):\n",
    "        print(\"*\", end = \"\")\n",
    "    print()"
   ]
  },
  {
   "cell_type": "markdown",
   "id": "83a659d8",
   "metadata": {},
   "source": [
    "# LEFT TRIANGLE"
   ]
  },
  {
   "cell_type": "code",
   "execution_count": 30,
   "id": "312eca15",
   "metadata": {},
   "outputs": [
    {
     "name": "stdout",
     "output_type": "stream",
     "text": [
      "*\n",
      "**\n",
      "***\n",
      "****\n",
      "*****\n"
     ]
    }
   ],
   "source": [
    "n=5\n",
    "for i in range(n):\n",
    "    for j in range(i+1):\n",
    "        print(\"*\", end = \"\")\n",
    "    print()"
   ]
  },
  {
   "cell_type": "code",
   "execution_count": 31,
   "id": "af91443d",
   "metadata": {},
   "outputs": [
    {
     "name": "stdout",
     "output_type": "stream",
     "text": [
      "*****\n",
      "****\n",
      "***\n",
      "**\n",
      "*\n"
     ]
    }
   ],
   "source": [
    "n=5\n",
    "for i in range(n):\n",
    "    for j in range(i,n):\n",
    "        print(\"*\", end = \"\")\n",
    "    print()"
   ]
  },
  {
   "cell_type": "markdown",
   "id": "0972c8fb",
   "metadata": {},
   "source": [
    "# RIGHT TRIANGLE"
   ]
  },
  {
   "cell_type": "code",
   "execution_count": 32,
   "id": "cca88e6d",
   "metadata": {},
   "outputs": [
    {
     "name": "stdout",
     "output_type": "stream",
     "text": [
      "     *\n",
      "    **\n",
      "   ***\n",
      "  ****\n",
      " *****\n"
     ]
    }
   ],
   "source": [
    "n=5\n",
    "for i in range(n):\n",
    "    for j in range(i, n):\n",
    "        print(\" \", end=\"\")\n",
    "    for k in range(i+1):\n",
    "        print(\"*\", end = \"\")\n",
    "    print()"
   ]
  },
  {
   "cell_type": "code",
   "execution_count": 33,
   "id": "172931e5",
   "metadata": {},
   "outputs": [
    {
     "name": "stdout",
     "output_type": "stream",
     "text": [
      " *****\n",
      "  ****\n",
      "   ***\n",
      "    **\n",
      "     *\n"
     ]
    }
   ],
   "source": [
    "n=5\n",
    "for i in range(5):\n",
    "    for k in range(i+1):\n",
    "        print(\" \", end = \"\")\n",
    "    for j in range(i, n):\n",
    "        print(\"*\", end=\"\")\n",
    "    print()"
   ]
  },
  {
   "cell_type": "markdown",
   "id": "9e7eecb5",
   "metadata": {},
   "source": [
    "# Hill pattern"
   ]
  },
  {
   "cell_type": "code",
   "execution_count": 34,
   "id": "dd2bf820",
   "metadata": {},
   "outputs": [
    {
     "name": "stdout",
     "output_type": "stream",
     "text": [
      "     *\n",
      "    **\n",
      "   ***\n",
      "  ****\n",
      " *****\n"
     ]
    }
   ],
   "source": [
    "n=5\n",
    "for i in range(n):\n",
    "    for j in range(i, n):\n",
    "        print(\" \", end=\"\")\n",
    "    for k in range(i+1):\n",
    "        print(\"*\", end = \"\")\n",
    "    print()"
   ]
  },
  {
   "cell_type": "code",
   "execution_count": 35,
   "id": "8b5f7f73",
   "metadata": {},
   "outputs": [
    {
     "name": "stdout",
     "output_type": "stream",
     "text": [
      "     *\n",
      "    ***\n",
      "   *****\n",
      "  *******\n",
      " *********\n"
     ]
    }
   ],
   "source": [
    "n=5\n",
    "for i in range(n):\n",
    "    for j in range(i, n):\n",
    "        print(\" \", end=\"\")\n",
    "    for k in range(i):\n",
    "        print(\"*\", end = \"\")\n",
    "    for k in range(i+1):\n",
    "        print(\"*\", end = \"\")\n",
    "    print()"
   ]
  },
  {
   "cell_type": "code",
   "execution_count": 36,
   "id": "0e003311",
   "metadata": {},
   "outputs": [
    {
     "name": "stdout",
     "output_type": "stream",
     "text": [
      " *********\n",
      "  *******\n",
      "   *****\n",
      "    ***\n",
      "     *\n"
     ]
    }
   ],
   "source": [
    "n=5\n",
    "for i in range(n):\n",
    "    for k in range(i+1):\n",
    "        print(\" \", end = \"\")\n",
    "    for j in range(i, n):\n",
    "        print(\"*\", end=\"\")\n",
    "    for j in range(i, n-1):\n",
    "        print(\"*\", end=\"\")\n",
    "    print()"
   ]
  },
  {
   "cell_type": "markdown",
   "id": "d971636c",
   "metadata": {},
   "source": [
    "# Diamond Pattern"
   ]
  },
  {
   "cell_type": "code",
   "execution_count": 43,
   "id": "0a3300b8",
   "metadata": {},
   "outputs": [
    {
     "name": "stdout",
     "output_type": "stream",
     "text": [
      "     *\n",
      "    ***\n",
      "   *****\n",
      "  *******\n",
      " *********\n",
      " *********\n",
      "  *******\n",
      "   *****\n",
      "    ***\n",
      "     *\n"
     ]
    }
   ],
   "source": [
    "n=5\n",
    "for i in range(n):\n",
    "    for j in range(i, n):\n",
    "        print(\" \", end=\"\")\n",
    "    for k in range(i):\n",
    "        print(\"*\", end = \"\")\n",
    "    for k in range(i+1):\n",
    "        print(\"*\", end = \"\")\n",
    "    print()\n",
    "for i in range(n):\n",
    "    for k in range(i+1):\n",
    "        print(\" \", end = \"\")\n",
    "    for j in range(i, n):\n",
    "        print(\"*\", end=\"\")\n",
    "    for j in range(i, n-1):\n",
    "        print(\"*\", end=\"\")\n",
    "    print()"
   ]
  },
  {
   "cell_type": "code",
   "execution_count": 45,
   "id": "5ae7455e",
   "metadata": {},
   "outputs": [
    {
     "name": "stdout",
     "output_type": "stream",
     "text": [
      "     *\n",
      "    ***\n",
      "   *****\n",
      "  *******\n",
      " *********\n",
      "  *******\n",
      "   *****\n",
      "    ***\n",
      "     *\n"
     ]
    }
   ],
   "source": [
    "n=5\n",
    "for i in range(n-1):\n",
    "    for j in range(i, n):\n",
    "        print(\" \", end=\"\")\n",
    "    for k in range(i):\n",
    "        print(\"*\", end = \"\")\n",
    "    for k in range(i+1):\n",
    "        print(\"*\", end = \"\")\n",
    "    print()\n",
    "for i in range(n):\n",
    "    for k in range(i+1):\n",
    "        print(\" \", end = \"\")\n",
    "    for j in range(i, n):\n",
    "        print(\"*\", end=\"\")\n",
    "    for j in range(i, n-1):\n",
    "        print(\"*\", end=\"\")\n",
    "    print()"
   ]
  },
  {
   "cell_type": "code",
   "execution_count": null,
   "id": "95842cc4",
   "metadata": {},
   "outputs": [],
   "source": []
  }
 ],
 "metadata": {
  "kernelspec": {
   "display_name": "Python 3",
   "language": "python",
   "name": "python3"
  },
  "language_info": {
   "codemirror_mode": {
    "name": "ipython",
    "version": 3
   },
   "file_extension": ".py",
   "mimetype": "text/x-python",
   "name": "python",
   "nbconvert_exporter": "python",
   "pygments_lexer": "ipython3",
   "version": "3.8.8"
  }
 },
 "nbformat": 4,
 "nbformat_minor": 5
}
