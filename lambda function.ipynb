{
 "cells": [
  {
   "cell_type": "markdown",
   "id": "581f1d6c",
   "metadata": {},
   "source": [
    "# Lambda Functions"
   ]
  },
  {
   "cell_type": "markdown",
   "id": "322c802e",
   "metadata": {},
   "source": [
    "Normal functions have names. They are defined using the def\n",
    "keyword."
   ]
  },
  {
   "cell_type": "markdown",
   "id": "56def3c6",
   "metadata": {},
   "source": [
    "Lambda functions do not have names. They are defined using the\n",
    "lambda keyword and are built at execution time."
   ]
  },
  {
   "cell_type": "markdown",
   "id": "f551e217",
   "metadata": {},
   "source": [
    "Lambda functions are commonly used for short functions that are\n",
    "convenient to define at the point where they are called."
   ]
  },
  {
   "cell_type": "markdown",
   "id": "3e489bce",
   "metadata": {},
   "source": [
    "Lambda functions are also called anonymous functions or inline\n",
    "functions."
   ]
  },
  {
   "cell_type": "markdown",
   "id": "beec1080",
   "metadata": {},
   "source": [
    "A lambda function can take any number of arguments but can return\n",
    "only one value. Its syntax is:"
   ]
  },
  {
   "cell_type": "markdown",
   "id": "51657973",
   "metadata": {},
   "source": [
    "lambda arguments : expression"
   ]
  },
  {
   "cell_type": "markdown",
   "id": "1bdf6ef2",
   "metadata": {},
   "source": [
    ": separates the parameters to be passed to the lambda function and the function body. the result of running the function body is returned implicity."
   ]
  },
  {
   "cell_type": "markdown",
   "id": "dde42f9d",
   "metadata": {},
   "source": [
    "A few examples of lambda functions\n"
   ]
  },
  {
   "cell_type": "code",
   "execution_count": 1,
   "id": "9b7708b0",
   "metadata": {},
   "outputs": [
    {
     "data": {
      "text/plain": [
       "<function __main__.<lambda>(n)>"
      ]
     },
     "execution_count": 1,
     "metadata": {},
     "output_type": "execute_result"
    }
   ],
   "source": [
    "#function that receives an argument and returns its cube\n",
    "\n",
    "lambda n : n * n * n"
   ]
  },
  {
   "cell_type": "code",
   "execution_count": 2,
   "id": "bf3aa03e",
   "metadata": {},
   "outputs": [
    {
     "data": {
      "text/plain": [
       "<function __main__.<lambda>(x, y, z)>"
      ]
     },
     "execution_count": 2,
     "metadata": {},
     "output_type": "execute_result"
    }
   ],
   "source": [
    "# function that receives 3 arguments and returns average of them\n",
    "\n",
    "lambda x, y, z : (x + y + z) / 3"
   ]
  },
  {
   "cell_type": "code",
   "execution_count": 3,
   "id": "3fdacb66",
   "metadata": {},
   "outputs": [
    {
     "data": {
      "text/plain": [
       "<function __main__.<lambda>(s)>"
      ]
     },
     "execution_count": 3,
     "metadata": {},
     "output_type": "execute_result"
    }
   ],
   "source": [
    "# function that receives a string, strips any whitespace and returns\n",
    "# the uppercase version of the string\n",
    "lambda s : s.trim( ).upper( )"
   ]
  },
  {
   "cell_type": "markdown",
   "id": "84335c4b",
   "metadata": {},
   "source": [
    "Lambda functions are often used as an argument to other functions.\n",
    "For example, the above lambdas can be passed to print( ) function\n",
    "to print the value that they return."
   ]
  },
  {
   "cell_type": "code",
   "execution_count": 4,
   "id": "53a7d409",
   "metadata": {},
   "outputs": [
    {
     "name": "stdout",
     "output_type": "stream",
     "text": [
      "27\n",
      "20.0\n"
     ]
    }
   ],
   "source": [
    "print((lambda n : n * n * n)(3))\n",
    "print((lambda x, y, z : (x + y + z) / 3)(10, 20, 30))"
   ]
  },
  {
   "cell_type": "code",
   "execution_count": 5,
   "id": "7fd744d3",
   "metadata": {},
   "outputs": [
    {
     "name": "stdout",
     "output_type": "stream",
     "text": [
      "NGP\n"
     ]
    }
   ],
   "source": [
    "print((lambda s : s.lstrip( ).rstrip( ).upper( ))(' Ngp '))"
   ]
  },
  {
   "cell_type": "markdown",
   "id": "d6c2e42f",
   "metadata": {},
   "source": [
    "The lambda can also be assigned to a variable and then invoked."
   ]
  },
  {
   "cell_type": "code",
   "execution_count": 6,
   "id": "88ccf181",
   "metadata": {},
   "outputs": [
    {
     "name": "stdout",
     "output_type": "stream",
     "text": [
      "27\n",
      "20.0\n",
      "NAGPUR\n"
     ]
    }
   ],
   "source": [
    "p = lambda n : n * n * n\n",
    "q = lambda x, y, z : (x + y + z) / 3\n",
    "r = lambda s : s.lstrip( ).rstrip( ).upper( )\n",
    "\n",
    "# calls first lambda function\n",
    "print(p(3))\n",
    "\n",
    "# calls second lambda function\n",
    "print(q(10, 20, 30))\n",
    "\n",
    "# calls third lambda function\n",
    "print(r(' Nagpur '))\n"
   ]
  },
  {
   "cell_type": "markdown",
   "id": "1d534b4d",
   "metadata": {},
   "source": [
    "Container types can also be passed to a lambda function. For\n",
    "example, a lambda function that calculates average of numbers in a\n",
    "list can be passed to print( ) function:"
   ]
  },
  {
   "cell_type": "code",
   "execution_count": 7,
   "id": "15422baf",
   "metadata": {},
   "outputs": [
    {
     "name": "stdout",
     "output_type": "stream",
     "text": [
      "3.0\n",
      "30.0\n"
     ]
    }
   ],
   "source": [
    "lst1 = [1, 2, 3, 4, 5]\n",
    "lst2 = [10, 20, 30, 40, 50]\n",
    "print((lambda l : sum(l) / len(l))(lst1))\n",
    "print((lambda l : sum(l) / len(l))(lst2))"
   ]
  },
  {
   "cell_type": "markdown",
   "id": "9089eb4e",
   "metadata": {},
   "source": [
    "Here instead of assigning a lambda function to a variable and then\n",
    "passing the variable to print( ), we have passed the lambda function\n",
    "itself to print()"
   ]
  },
  {
   "cell_type": "code",
   "execution_count": null,
   "id": "fd56761c",
   "metadata": {},
   "outputs": [],
   "source": []
  }
 ],
 "metadata": {
  "kernelspec": {
   "display_name": "Python 3",
   "language": "python",
   "name": "python3"
  },
  "language_info": {
   "codemirror_mode": {
    "name": "ipython",
    "version": 3
   },
   "file_extension": ".py",
   "mimetype": "text/x-python",
   "name": "python",
   "nbconvert_exporter": "python",
   "pygments_lexer": "ipython3",
   "version": "3.8.8"
  }
 },
 "nbformat": 4,
 "nbformat_minor": 5
}
