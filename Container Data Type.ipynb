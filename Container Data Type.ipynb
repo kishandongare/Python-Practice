{
 "cells": [
  {
   "cell_type": "markdown",
   "id": "c058e808",
   "metadata": {},
   "source": [
    "# Python has following container data types:"
   ]
  },
  {
   "cell_type": "markdown",
   "id": "4c514b79",
   "metadata": {},
   "source": [
    " Lists   \n",
    "\n",
    " Tuples      \n",
    "\n",
    " Sets     \n",
    "\n",
    " Dictionaries"
   ]
  },
  {
   "cell_type": "markdown",
   "id": "20ff1893",
   "metadata": {},
   "source": [
    "# LIST"
   ]
  },
  {
   "cell_type": "markdown",
   "id": "14eb549b",
   "metadata": {},
   "source": [
    "> It is also known as a dynamic array.\n",
    "\n",
    "> A list is defined by writing comma-separated elements within [ ]\n"
   ]
  },
  {
   "cell_type": "code",
   "execution_count": 2,
   "id": "e8f91858",
   "metadata": {},
   "outputs": [],
   "source": [
    "num = [10, 25, 30, 40, 100]\n",
    "names= ['Kishan', 'Radha', 'Ram']"
   ]
  },
  {
   "cell_type": "markdown",
   "id": "d730b3b4",
   "metadata": {},
   "source": [
    "\n",
    " > List can contain dissimilar types, though usually they are a collection\n",
    "of similar types."
   ]
  },
  {
   "cell_type": "code",
   "execution_count": 4,
   "id": "b6e287a3",
   "metadata": {},
   "outputs": [],
   "source": [
    "animal = ['Zebra', 155.55, 110]"
   ]
  },
  {
   "cell_type": "markdown",
   "id": "a02e3498",
   "metadata": {},
   "source": [
    "> Items in a list can be repeated.\n",
    "\n",
    "> List may contain duplicate items.\n",
    "\n",
    "> Like printing, * can be used to repeat an element multiple times. \n",
    "\n",
    "> An empty list is also feasible.\n"
   ]
  },
  {
   "cell_type": "code",
   "execution_count": 6,
   "id": "ea5ed84e",
   "metadata": {},
   "outputs": [],
   "source": [
    "ages = [25, 26, 25, 27, 26]\n",
    "num = [10] * 5\n",
    "lst = [ ]"
   ]
  },
  {
   "cell_type": "markdown",
   "id": "3d161033",
   "metadata": {},
   "source": [
    "# TUPLE"
   ]
  },
  {
   "cell_type": "markdown",
   "id": "f721ac55",
   "metadata": {},
   "source": [
    "> a tuple is similar to a list in terms of indexing, nested objects, similar, \n",
    "dissimilar and repetition but a tuple is immutable, unlike lists which are mutable."
   ]
  },
  {
   "cell_type": "code",
   "execution_count": 1,
   "id": "9102aa9a",
   "metadata": {},
   "outputs": [],
   "source": [
    "a = ( ) # empty tuple\n",
    "b = (10,) # tuple with one item. , after 10 is necessary\n",
    "c = ('Sanjay', 25, 34555.50) # tuple with dissimilar items\n",
    "d = (10, 20, 30, 40) # tuple with similar items"
   ]
  },
  {
   "cell_type": "code",
   "execution_count": 2,
   "id": "4da1bb7b",
   "metadata": {},
   "outputs": [],
   "source": [
    "# tuple is immutable"
   ]
  },
  {
   "cell_type": "code",
   "execution_count": 3,
   "id": "aa32cb12",
   "metadata": {},
   "outputs": [
    {
     "ename": "TypeError",
     "evalue": "'tuple' object does not support item assignment",
     "output_type": "error",
     "traceback": [
      "\u001b[0;31m---------------------------------------------------------------------------\u001b[0m",
      "\u001b[0;31mTypeError\u001b[0m                                 Traceback (most recent call last)",
      "\u001b[0;32m<ipython-input-3-aa6ddf198371>\u001b[0m in \u001b[0;36m<module>\u001b[0;34m\u001b[0m\n\u001b[1;32m      2\u001b[0m \u001b[0;34m\u001b[0m\u001b[0m\n\u001b[1;32m      3\u001b[0m \u001b[0mtuple1\u001b[0m \u001b[0;34m=\u001b[0m \u001b[0;34m(\u001b[0m\u001b[0;36m0\u001b[0m\u001b[0;34m,\u001b[0m \u001b[0;36m1\u001b[0m\u001b[0;34m,\u001b[0m \u001b[0;36m2\u001b[0m\u001b[0;34m,\u001b[0m \u001b[0;36m3\u001b[0m\u001b[0;34m)\u001b[0m\u001b[0;34m\u001b[0m\u001b[0;34m\u001b[0m\u001b[0m\n\u001b[0;32m----> 4\u001b[0;31m \u001b[0mtuple1\u001b[0m\u001b[0;34m[\u001b[0m\u001b[0;36m0\u001b[0m\u001b[0;34m]\u001b[0m \u001b[0;34m=\u001b[0m \u001b[0;36m4\u001b[0m\u001b[0;34m\u001b[0m\u001b[0;34m\u001b[0m\u001b[0m\n\u001b[0m\u001b[1;32m      5\u001b[0m \u001b[0mprint\u001b[0m\u001b[0;34m(\u001b[0m\u001b[0mtuple1\u001b[0m\u001b[0;34m)\u001b[0m\u001b[0;34m\u001b[0m\u001b[0;34m\u001b[0m\u001b[0m\n",
      "\u001b[0;31mTypeError\u001b[0m: 'tuple' object does not support item assignment"
     ]
    }
   ],
   "source": [
    "# code to test that tuples are immutable\n",
    "\n",
    "tuple1 = (0, 1, 2, 3)\n",
    "tuple1[0] = 4\n",
    "print(tuple1)\n"
   ]
  },
  {
   "cell_type": "markdown",
   "id": "97f2dd6e",
   "metadata": {},
   "source": [
    "# Sets"
   ]
  },
  {
   "cell_type": "markdown",
   "id": "d23b559f",
   "metadata": {},
   "source": [
    "> Sets are like lists, with an exception that they do not contain\n",
    "duplicate entries.\n",
    "\n",
    "> Sets are commonly used for eliminating duplicate entries and\n",
    "membership testing."
   ]
  },
  {
   "cell_type": "code",
   "execution_count": 7,
   "id": "bf0d9c26",
   "metadata": {},
   "outputs": [],
   "source": [
    "a = set( ) # empty set, use ( ) instead of { }\n",
    "b = {20} # set with one item\n",
    "c = {'Sanjay', 25, 34555.50} # set with multiple items\n",
    "d = {10, 10, 10, 10} # only one 10 gets stored"
   ]
  },
  {
   "cell_type": "markdown",
   "id": "ffd32698",
   "metadata": {},
   "source": [
    "> While storing an element in a set, its hash value is computed using a\n",
    "hashing technique to determine where it should be stored in the set."
   ]
  },
  {
   "cell_type": "markdown",
   "id": "de15a1c6",
   "metadata": {},
   "source": [
    "> Since hash value of an element will always be same, no matter in\n",
    "which order we insert the elements in a set, they get stored in the\n",
    "same order."
   ]
  },
  {
   "cell_type": "code",
   "execution_count": 8,
   "id": "c8ea58d4",
   "metadata": {},
   "outputs": [
    {
     "name": "stdout",
     "output_type": "stream",
     "text": [
      "{12, 45, 16, 52, 23}\n",
      "{12, 45, 16, 52, 23}\n",
      "{12, 45, 16, 52, 23}\n"
     ]
    }
   ],
   "source": [
    "s = {12, 23, 45, 16, 52} # prints {12, 45, 16, 52, 23}\n",
    "\n",
    "t = {16, 52, 12, 23, 45} # prints {12, 45, 16, 52, 23}\n",
    "\n",
    "u = {52, 12, 16, 45, 23} # prints {12, 45, 16, 52, 23}\n",
    "print(s)\n",
    "print(t)\n",
    "print(u)\n",
    "\n"
   ]
  },
  {
   "cell_type": "markdown",
   "id": "10f00c05",
   "metadata": {},
   "source": [
    "It is possible to  create a set of strings and tuples, but not a set of lists."
   ]
  },
  {
   "cell_type": "code",
   "execution_count": 9,
   "id": "19e98edc",
   "metadata": {},
   "outputs": [
    {
     "ename": "TypeError",
     "evalue": "unhashable type: 'list'",
     "output_type": "error",
     "traceback": [
      "\u001b[0;31m---------------------------------------------------------------------------\u001b[0m",
      "\u001b[0;31mTypeError\u001b[0m                                 Traceback (most recent call last)",
      "\u001b[0;32m<ipython-input-9-ea30f9cc10cf>\u001b[0m in \u001b[0;36m<module>\u001b[0;34m\u001b[0m\n\u001b[1;32m      3\u001b[0m \u001b[0ms2\u001b[0m \u001b[0;34m=\u001b[0m \u001b[0;34m{\u001b[0m\u001b[0;34m(\u001b[0m\u001b[0;36m12\u001b[0m\u001b[0;34m,\u001b[0m \u001b[0;36m23\u001b[0m\u001b[0;34m)\u001b[0m\u001b[0;34m,\u001b[0m \u001b[0;34m(\u001b[0m\u001b[0;36m15\u001b[0m\u001b[0;34m,\u001b[0m \u001b[0;36m25\u001b[0m\u001b[0;34m)\u001b[0m\u001b[0;34m,\u001b[0m \u001b[0;34m(\u001b[0m\u001b[0;36m17\u001b[0m\u001b[0;34m,\u001b[0m \u001b[0;36m34\u001b[0m\u001b[0;34m)\u001b[0m\u001b[0;34m}\u001b[0m \u001b[0;31m# works\u001b[0m\u001b[0;34m\u001b[0m\u001b[0;34m\u001b[0m\u001b[0m\n\u001b[1;32m      4\u001b[0m \u001b[0;34m\u001b[0m\u001b[0m\n\u001b[0;32m----> 5\u001b[0;31m \u001b[0ms3\u001b[0m \u001b[0;34m=\u001b[0m \u001b[0;34m{\u001b[0m\u001b[0;34m[\u001b[0m\u001b[0;36m12\u001b[0m\u001b[0;34m,\u001b[0m \u001b[0;36m23\u001b[0m\u001b[0;34m]\u001b[0m\u001b[0;34m,\u001b[0m \u001b[0;34m[\u001b[0m\u001b[0;36m15\u001b[0m\u001b[0;34m,\u001b[0m \u001b[0;36m25\u001b[0m\u001b[0;34m]\u001b[0m\u001b[0;34m,\u001b[0m \u001b[0;34m[\u001b[0m\u001b[0;36m17\u001b[0m\u001b[0;34m,\u001b[0m \u001b[0;36m34\u001b[0m\u001b[0;34m]\u001b[0m\u001b[0;34m}\u001b[0m \u001b[0;31m# error\u001b[0m\u001b[0;34m\u001b[0m\u001b[0;34m\u001b[0m\u001b[0m\n\u001b[0m",
      "\u001b[0;31mTypeError\u001b[0m: unhashable type: 'list'"
     ]
    }
   ],
   "source": [
    "s1 = {'Morning', 'Evening'} # works\n",
    "\n",
    "s2 = {(12, 23), (15, 25), (17, 34)} # works\n",
    "\n",
    "s3 = {[12, 23], [15, 25], [17, 34]} # error\n"
   ]
  },
  {
   "cell_type": "markdown",
   "id": "32cc099a",
   "metadata": {},
   "source": [
    "# Dictionary"
   ]
  },
  {
   "cell_type": "markdown",
   "id": "9e336184",
   "metadata": {},
   "source": [
    "> Dictionary is a collection of key-value pairs.\n",
    "\n",
    "> Dictionaries are also known as maps or associative arrays.\n",
    "\n",
    "> A dictionary contains comma separated key : value pairs enclosed\n",
    "within { }."
   ]
  },
  {
   "cell_type": "code",
   "execution_count": 10,
   "id": "ab085f2a",
   "metadata": {},
   "outputs": [],
   "source": [
    "d1 = {} #empty dictionary\n",
    "d2 = {'A101':'Anmol', 'A102':'Anil', 'B103':'Ravi'}"
   ]
  },
  {
   "cell_type": "markdown",
   "id": "41e41661",
   "metadata": {},
   "source": [
    "> Here, 'A101', 'A102', 'B103' are keys, whereas, 'Amol', 'Anil', 'Ravi'\n",
    "are values."
   ]
  },
  {
   "cell_type": "markdown",
   "id": "9a3ebc76",
   "metadata": {},
   "source": [
    "> Different keys may have same values"
   ]
  },
  {
   "cell_type": "code",
   "execution_count": 11,
   "id": "8b3edcb2",
   "metadata": {},
   "outputs": [],
   "source": [
    "d2 = {'A101':'Anmol', 'A102':'Anmol', 'B103':'Ravi'}"
   ]
  },
  {
   "cell_type": "markdown",
   "id": "ae87cce2",
   "metadata": {},
   "source": [
    "> Keys must be unique. If keys are same, but values are different,\n",
    "latest key value pair gets stored."
   ]
  },
  {
   "cell_type": "code",
   "execution_count": 15,
   "id": "0009b85d",
   "metadata": {},
   "outputs": [
    {
     "name": "stdout",
     "output_type": "stream",
     "text": [
      "{10: 'Z', 20: 'B'}\n"
     ]
    }
   ],
   "source": [
    "d = {10:'A', 20:'B', 10:'Z'}\n",
    "print(d)"
   ]
  },
  {
   "cell_type": "markdown",
   "id": "3dc0c731",
   "metadata": {},
   "source": [
    "> If key value pairs are repeated, then only one pair gets stored."
   ]
  },
  {
   "cell_type": "code",
   "execution_count": 16,
   "id": "f9e99370",
   "metadata": {},
   "outputs": [
    {
     "name": "stdout",
     "output_type": "stream",
     "text": [
      "{10: 'A', 20: 'B'}\n"
     ]
    }
   ],
   "source": [
    "d = {10:'A', 20:'B', 10:'A'}\n",
    "print(d)"
   ]
  },
  {
   "cell_type": "code",
   "execution_count": null,
   "id": "7aef3121",
   "metadata": {},
   "outputs": [],
   "source": []
  }
 ],
 "metadata": {
  "kernelspec": {
   "display_name": "Python 3",
   "language": "python",
   "name": "python3"
  },
  "language_info": {
   "codemirror_mode": {
    "name": "ipython",
    "version": 3
   },
   "file_extension": ".py",
   "mimetype": "text/x-python",
   "name": "python",
   "nbconvert_exporter": "python",
   "pygments_lexer": "ipython3",
   "version": "3.8.8"
  }
 },
 "nbformat": 4,
 "nbformat_minor": 5
}
